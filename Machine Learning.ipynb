{
 "cells": [
  {
   "cell_type": "markdown",
   "metadata": {},
   "source": [
    "# LIBRERIAS"
   ]
  },
  {
   "cell_type": "code",
   "execution_count": 1,
   "metadata": {},
   "outputs": [],
   "source": [
    "# IMPORTAR LIBRERIAS\n",
    "import pandas as pd\n",
    "import numpy as np \n",
    "import matplotlib.pyplot as plt \n",
    "import seaborn as sns \n",
    "import pprint\n",
    "\n",
    "import sklearn\n",
    "from sklearn.preprocessing import StandardScaler\n",
    "\n",
    "\n",
    "from sklearn.model_selection import train_test_split\n",
    "from sklearn.ensemble import RandomForestRegressor\n",
    "\n",
    "from sklearn.ensemble import RandomForestClassifier\n",
    "\n",
    "\n",
    "\n",
    "%matplotlib inline"
   ]
  },
  {
   "cell_type": "markdown",
   "metadata": {},
   "source": [
    "# PREPARAR DATAFRAME"
   ]
  },
  {
   "cell_type": "code",
   "execution_count": 2,
   "metadata": {},
   "outputs": [
    {
     "name": "stdout",
     "output_type": "stream",
     "text": [
      "(181691, 16)\n",
      " \n",
      "Unnamed: 0      int64\n",
      "eventid         int64\n",
      "country        object\n",
      "region         object\n",
      "provstate      object\n",
      "city           object\n",
      "latitude      float64\n",
      "longitude     float64\n",
      "success         int64\n",
      "gname          object\n",
      "year            int64\n",
      "month           int64\n",
      "day             int64\n",
      "attacktype     object\n",
      "targtype       object\n",
      "weaptype       object\n",
      "dtype: object\n"
     ]
    }
   ],
   "source": [
    "# IMPORTAMOS CSV\n",
    "df = pd.read_csv('dataset/globalterrorismdb_modified.csv')\n",
    "\n",
    "\n",
    "# CREAR DATAFRAME DE LOCALIZACIONES PARA UN FUTURO\n",
    "cities = df.drop(['Unnamed: 0', 'eventid', 'provstate', 'success', \n",
    "                  'gname', 'year', 'month', 'day', 'attacktype', \n",
    "                  'targtype', 'weaptype'],axis=1)\n",
    "# DATOS DEL DF\n",
    "print(df.shape)\n",
    "print(' ')\n",
    "print(df.dtypes)"
   ]
  },
  {
   "cell_type": "code",
   "execution_count": 3,
   "metadata": {},
   "outputs": [
    {
     "data": {
      "text/plain": [
       "array([1, 0])"
      ]
     },
     "execution_count": 3,
     "metadata": {},
     "output_type": "execute_result"
    }
   ],
   "source": [
    "df['success'].unique()"
   ]
  },
  {
   "cell_type": "code",
   "execution_count": 4,
   "metadata": {},
   "outputs": [
    {
     "name": "stdout",
     "output_type": "stream",
     "text": [
      "country = 205\n",
      "region = 12\n",
      "provstate = 2855\n",
      "city = 36674\n",
      "gname = 3537\n",
      "attacktype = 9\n",
      "targtype = 22\n",
      "weaptype = 12\n"
     ]
    }
   ],
   "source": [
    "# OBTENER VALORES UNICOS DE LAS COLUMNAS TIPO Object\n",
    "for column in df:\n",
    "    if df[column].dtypes == 'object':\n",
    "        print(\"{} = {}\".format(column,df[column].nunique()))"
   ]
  },
  {
   "cell_type": "code",
   "execution_count": 5,
   "metadata": {},
   "outputs": [
    {
     "data": {
      "text/plain": [
       "Unnamed: 0      int64\n",
       "region         object\n",
       "latitude      float64\n",
       "longitude     float64\n",
       "success         int64\n",
       "year            int64\n",
       "month           int64\n",
       "day             int64\n",
       "dtype: object"
      ]
     },
     "execution_count": 5,
     "metadata": {},
     "output_type": "execute_result"
    }
   ],
   "source": [
    "# ELIMINAMOS COLUMNAS CON DEMASIADOS VALORES UNICOS\n",
    "# O QUE NO NOS SIRVEN PARA LA PREDICCION\n",
    "df = df.drop(['eventid', 'country', 'provstate', 'city', 'gname', 'targtype', 'attacktype', 'weaptype'],axis=1)\n",
    "df.dtypes"
   ]
  },
  {
   "cell_type": "code",
   "execution_count": 6,
   "metadata": {},
   "outputs": [
    {
     "name": "stdout",
     "output_type": "stream",
     "text": [
      "region = 12\n"
     ]
    }
   ],
   "source": [
    "# OBTENER VALORES UNICOS DE LAS COLUMNAS TIPO Object\n",
    "for column in df:\n",
    "    if df[column].dtypes == 'object':\n",
    "        print(\"{} = {}\".format(column,df[column].nunique()))"
   ]
  },
  {
   "cell_type": "code",
   "execution_count": 7,
   "metadata": {},
   "outputs": [
    {
     "data": {
      "text/plain": [
       "Unnamed: 0      int64\n",
       "region         object\n",
       "latitude      float64\n",
       "longitude     float64\n",
       "success         int64\n",
       "year            int64\n",
       "month           int64\n",
       "day             int64\n",
       "dtype: object"
      ]
     },
     "execution_count": 7,
     "metadata": {},
     "output_type": "execute_result"
    }
   ],
   "source": [
    "# COMPROBAMOS SI HAY VALORES TIPO OBJECT\n",
    "df.dtypes"
   ]
  },
  {
   "cell_type": "code",
   "execution_count": 8,
   "metadata": {},
   "outputs": [
    {
     "data": {
      "text/html": [
       "<div>\n",
       "<style scoped>\n",
       "    .dataframe tbody tr th:only-of-type {\n",
       "        vertical-align: middle;\n",
       "    }\n",
       "\n",
       "    .dataframe tbody tr th {\n",
       "        vertical-align: top;\n",
       "    }\n",
       "\n",
       "    .dataframe thead th {\n",
       "        text-align: right;\n",
       "    }\n",
       "</style>\n",
       "<table border=\"1\" class=\"dataframe\">\n",
       "  <thead>\n",
       "    <tr style=\"text-align: right;\">\n",
       "      <th></th>\n",
       "      <th>Unnamed: 0</th>\n",
       "      <th>latitude</th>\n",
       "      <th>longitude</th>\n",
       "      <th>success</th>\n",
       "      <th>year</th>\n",
       "      <th>month</th>\n",
       "      <th>day</th>\n",
       "      <th>region_Australasia &amp; Oceania</th>\n",
       "      <th>region_Central America &amp; Caribbean</th>\n",
       "      <th>region_Central Asia</th>\n",
       "      <th>region_East Asia</th>\n",
       "      <th>region_Eastern Europe</th>\n",
       "      <th>region_Middle East &amp; North Africa</th>\n",
       "      <th>region_North America</th>\n",
       "      <th>region_South America</th>\n",
       "      <th>region_South Asia</th>\n",
       "      <th>region_Southeast Asia</th>\n",
       "      <th>region_Sub-Saharan Africa</th>\n",
       "      <th>region_Western Europe</th>\n",
       "    </tr>\n",
       "  </thead>\n",
       "  <tbody>\n",
       "    <tr>\n",
       "      <th>0</th>\n",
       "      <td>0</td>\n",
       "      <td>18.456792</td>\n",
       "      <td>-69.951164</td>\n",
       "      <td>1</td>\n",
       "      <td>1970</td>\n",
       "      <td>7</td>\n",
       "      <td>2</td>\n",
       "      <td>0</td>\n",
       "      <td>1</td>\n",
       "      <td>0</td>\n",
       "      <td>0</td>\n",
       "      <td>0</td>\n",
       "      <td>0</td>\n",
       "      <td>0</td>\n",
       "      <td>0</td>\n",
       "      <td>0</td>\n",
       "      <td>0</td>\n",
       "      <td>0</td>\n",
       "      <td>0</td>\n",
       "    </tr>\n",
       "    <tr>\n",
       "      <th>1</th>\n",
       "      <td>1</td>\n",
       "      <td>19.371887</td>\n",
       "      <td>-99.086624</td>\n",
       "      <td>1</td>\n",
       "      <td>1970</td>\n",
       "      <td>0</td>\n",
       "      <td>0</td>\n",
       "      <td>0</td>\n",
       "      <td>0</td>\n",
       "      <td>0</td>\n",
       "      <td>0</td>\n",
       "      <td>0</td>\n",
       "      <td>0</td>\n",
       "      <td>1</td>\n",
       "      <td>0</td>\n",
       "      <td>0</td>\n",
       "      <td>0</td>\n",
       "      <td>0</td>\n",
       "      <td>0</td>\n",
       "    </tr>\n",
       "    <tr>\n",
       "      <th>2</th>\n",
       "      <td>2</td>\n",
       "      <td>15.478598</td>\n",
       "      <td>120.599741</td>\n",
       "      <td>1</td>\n",
       "      <td>1970</td>\n",
       "      <td>1</td>\n",
       "      <td>0</td>\n",
       "      <td>0</td>\n",
       "      <td>0</td>\n",
       "      <td>0</td>\n",
       "      <td>0</td>\n",
       "      <td>0</td>\n",
       "      <td>0</td>\n",
       "      <td>0</td>\n",
       "      <td>0</td>\n",
       "      <td>0</td>\n",
       "      <td>1</td>\n",
       "      <td>0</td>\n",
       "      <td>0</td>\n",
       "    </tr>\n",
       "    <tr>\n",
       "      <th>3</th>\n",
       "      <td>3</td>\n",
       "      <td>37.997490</td>\n",
       "      <td>23.762728</td>\n",
       "      <td>1</td>\n",
       "      <td>1970</td>\n",
       "      <td>1</td>\n",
       "      <td>0</td>\n",
       "      <td>0</td>\n",
       "      <td>0</td>\n",
       "      <td>0</td>\n",
       "      <td>0</td>\n",
       "      <td>0</td>\n",
       "      <td>0</td>\n",
       "      <td>0</td>\n",
       "      <td>0</td>\n",
       "      <td>0</td>\n",
       "      <td>0</td>\n",
       "      <td>0</td>\n",
       "      <td>1</td>\n",
       "    </tr>\n",
       "    <tr>\n",
       "      <th>4</th>\n",
       "      <td>4</td>\n",
       "      <td>33.580412</td>\n",
       "      <td>130.396361</td>\n",
       "      <td>1</td>\n",
       "      <td>1970</td>\n",
       "      <td>1</td>\n",
       "      <td>0</td>\n",
       "      <td>0</td>\n",
       "      <td>0</td>\n",
       "      <td>0</td>\n",
       "      <td>1</td>\n",
       "      <td>0</td>\n",
       "      <td>0</td>\n",
       "      <td>0</td>\n",
       "      <td>0</td>\n",
       "      <td>0</td>\n",
       "      <td>0</td>\n",
       "      <td>0</td>\n",
       "      <td>0</td>\n",
       "    </tr>\n",
       "  </tbody>\n",
       "</table>\n",
       "</div>"
      ],
      "text/plain": [
       "   Unnamed: 0   latitude   longitude  success  year  month  day  \\\n",
       "0           0  18.456792  -69.951164        1  1970      7    2   \n",
       "1           1  19.371887  -99.086624        1  1970      0    0   \n",
       "2           2  15.478598  120.599741        1  1970      1    0   \n",
       "3           3  37.997490   23.762728        1  1970      1    0   \n",
       "4           4  33.580412  130.396361        1  1970      1    0   \n",
       "\n",
       "   region_Australasia & Oceania  region_Central America & Caribbean  \\\n",
       "0                             0                                   1   \n",
       "1                             0                                   0   \n",
       "2                             0                                   0   \n",
       "3                             0                                   0   \n",
       "4                             0                                   0   \n",
       "\n",
       "   region_Central Asia  region_East Asia  region_Eastern Europe  \\\n",
       "0                    0                 0                      0   \n",
       "1                    0                 0                      0   \n",
       "2                    0                 0                      0   \n",
       "3                    0                 0                      0   \n",
       "4                    0                 1                      0   \n",
       "\n",
       "   region_Middle East & North Africa  region_North America  \\\n",
       "0                                  0                     0   \n",
       "1                                  0                     1   \n",
       "2                                  0                     0   \n",
       "3                                  0                     0   \n",
       "4                                  0                     0   \n",
       "\n",
       "   region_South America  region_South Asia  region_Southeast Asia  \\\n",
       "0                     0                  0                      0   \n",
       "1                     0                  0                      0   \n",
       "2                     0                  0                      1   \n",
       "3                     0                  0                      0   \n",
       "4                     0                  0                      0   \n",
       "\n",
       "   region_Sub-Saharan Africa  region_Western Europe  \n",
       "0                          0                      0  \n",
       "1                          0                      0  \n",
       "2                          0                      0  \n",
       "3                          0                      1  \n",
       "4                          0                      0  "
      ]
     },
     "execution_count": 8,
     "metadata": {},
     "output_type": "execute_result"
    }
   ],
   "source": [
    "# QUITAMOS LOS VALORES OBJECT Y LOS PASAMOS A NUMERICOS\n",
    "df_numerical = pd.get_dummies(df)\n",
    "\n",
    "df_final = df_numerical.dropna(axis=0)\n",
    "df_final.head()"
   ]
  },
  {
   "cell_type": "code",
   "execution_count": 9,
   "metadata": {},
   "outputs": [
    {
     "data": {
      "text/plain": [
       "array([[-1.75455584e+00, -2.71506216e-01,  1.89836657e-03, ...,\n",
       "        -2.68919322e-01, -3.25940302e-01, -3.20303649e-01],\n",
       "       [-1.75453674e+00, -2.22225941e-01,  1.75608858e-03, ...,\n",
       "        -2.68919322e-01, -3.25940302e-01, -3.20303649e-01],\n",
       "       [-1.75451765e+00, -4.31889806e-01,  2.82888900e-03, ...,\n",
       "         3.71858739e+00, -3.25940302e-01, -3.20303649e-01],\n",
       "       ...,\n",
       "       [ 1.71483800e+00, -8.93829940e-01,  2.84763203e-03, ...,\n",
       "         3.71858739e+00, -3.25940302e-01, -3.20303649e-01],\n",
       "       [ 1.71485709e+00,  7.00031658e-02,  2.69870286e-03, ...,\n",
       "        -2.68919322e-01, -3.25940302e-01, -3.20303649e-01],\n",
       "       [ 1.71487619e+00, -8.77197446e-01,  2.84667518e-03, ...,\n",
       "         3.71858739e+00, -3.25940302e-01, -3.20303649e-01]])"
      ]
     },
     "execution_count": 9,
     "metadata": {},
     "output_type": "execute_result"
    }
   ],
   "source": [
    "# IGUALAR LOS VALORES DE TODAS LAS COLUMNAS\n",
    "scaler = StandardScaler()\n",
    "scaler.fit(df_final)\n",
    "scaler.transform(df_final)"
   ]
  },
  {
   "cell_type": "markdown",
   "metadata": {},
   "source": [
    "# ENTRENAR MODELO "
   ]
  },
  {
   "cell_type": "code",
   "execution_count": 10,
   "metadata": {},
   "outputs": [],
   "source": [
    "# SEPARAR MODELO EN 4 (2  de entrenar y 2 de test)\n",
    "\n",
    "X = df_final.drop(['success', 'Unnamed: 0'], axis=1)\n",
    "# X = df_final.drop(['year'], axis=1)\n",
    "y = df_final['success']\n",
    "X_train, X_test, y_train, y_test = train_test_split(X, y, test_size=0.33)"
   ]
  },
  {
   "cell_type": "code",
   "execution_count": 11,
   "metadata": {},
   "outputs": [
    {
     "data": {
      "text/html": [
       "<div>\n",
       "<style scoped>\n",
       "    .dataframe tbody tr th:only-of-type {\n",
       "        vertical-align: middle;\n",
       "    }\n",
       "\n",
       "    .dataframe tbody tr th {\n",
       "        vertical-align: top;\n",
       "    }\n",
       "\n",
       "    .dataframe thead th {\n",
       "        text-align: right;\n",
       "    }\n",
       "</style>\n",
       "<table border=\"1\" class=\"dataframe\">\n",
       "  <thead>\n",
       "    <tr style=\"text-align: right;\">\n",
       "      <th></th>\n",
       "      <th>latitude</th>\n",
       "      <th>longitude</th>\n",
       "      <th>year</th>\n",
       "      <th>month</th>\n",
       "      <th>day</th>\n",
       "      <th>region_Australasia &amp; Oceania</th>\n",
       "      <th>region_Central America &amp; Caribbean</th>\n",
       "      <th>region_Central Asia</th>\n",
       "      <th>region_East Asia</th>\n",
       "      <th>region_Eastern Europe</th>\n",
       "      <th>region_Middle East &amp; North Africa</th>\n",
       "      <th>region_North America</th>\n",
       "      <th>region_South America</th>\n",
       "      <th>region_South Asia</th>\n",
       "      <th>region_Southeast Asia</th>\n",
       "      <th>region_Sub-Saharan Africa</th>\n",
       "      <th>region_Western Europe</th>\n",
       "    </tr>\n",
       "  </thead>\n",
       "  <tbody>\n",
       "    <tr>\n",
       "      <th>0</th>\n",
       "      <td>18.456792</td>\n",
       "      <td>-69.951164</td>\n",
       "      <td>1970</td>\n",
       "      <td>7</td>\n",
       "      <td>2</td>\n",
       "      <td>0</td>\n",
       "      <td>1</td>\n",
       "      <td>0</td>\n",
       "      <td>0</td>\n",
       "      <td>0</td>\n",
       "      <td>0</td>\n",
       "      <td>0</td>\n",
       "      <td>0</td>\n",
       "      <td>0</td>\n",
       "      <td>0</td>\n",
       "      <td>0</td>\n",
       "      <td>0</td>\n",
       "    </tr>\n",
       "    <tr>\n",
       "      <th>1</th>\n",
       "      <td>19.371887</td>\n",
       "      <td>-99.086624</td>\n",
       "      <td>1970</td>\n",
       "      <td>0</td>\n",
       "      <td>0</td>\n",
       "      <td>0</td>\n",
       "      <td>0</td>\n",
       "      <td>0</td>\n",
       "      <td>0</td>\n",
       "      <td>0</td>\n",
       "      <td>0</td>\n",
       "      <td>1</td>\n",
       "      <td>0</td>\n",
       "      <td>0</td>\n",
       "      <td>0</td>\n",
       "      <td>0</td>\n",
       "      <td>0</td>\n",
       "    </tr>\n",
       "    <tr>\n",
       "      <th>2</th>\n",
       "      <td>15.478598</td>\n",
       "      <td>120.599741</td>\n",
       "      <td>1970</td>\n",
       "      <td>1</td>\n",
       "      <td>0</td>\n",
       "      <td>0</td>\n",
       "      <td>0</td>\n",
       "      <td>0</td>\n",
       "      <td>0</td>\n",
       "      <td>0</td>\n",
       "      <td>0</td>\n",
       "      <td>0</td>\n",
       "      <td>0</td>\n",
       "      <td>0</td>\n",
       "      <td>1</td>\n",
       "      <td>0</td>\n",
       "      <td>0</td>\n",
       "    </tr>\n",
       "    <tr>\n",
       "      <th>3</th>\n",
       "      <td>37.997490</td>\n",
       "      <td>23.762728</td>\n",
       "      <td>1970</td>\n",
       "      <td>1</td>\n",
       "      <td>0</td>\n",
       "      <td>0</td>\n",
       "      <td>0</td>\n",
       "      <td>0</td>\n",
       "      <td>0</td>\n",
       "      <td>0</td>\n",
       "      <td>0</td>\n",
       "      <td>0</td>\n",
       "      <td>0</td>\n",
       "      <td>0</td>\n",
       "      <td>0</td>\n",
       "      <td>0</td>\n",
       "      <td>1</td>\n",
       "    </tr>\n",
       "    <tr>\n",
       "      <th>4</th>\n",
       "      <td>33.580412</td>\n",
       "      <td>130.396361</td>\n",
       "      <td>1970</td>\n",
       "      <td>1</td>\n",
       "      <td>0</td>\n",
       "      <td>0</td>\n",
       "      <td>0</td>\n",
       "      <td>0</td>\n",
       "      <td>1</td>\n",
       "      <td>0</td>\n",
       "      <td>0</td>\n",
       "      <td>0</td>\n",
       "      <td>0</td>\n",
       "      <td>0</td>\n",
       "      <td>0</td>\n",
       "      <td>0</td>\n",
       "      <td>0</td>\n",
       "    </tr>\n",
       "  </tbody>\n",
       "</table>\n",
       "</div>"
      ],
      "text/plain": [
       "    latitude   longitude  year  month  day  region_Australasia & Oceania  \\\n",
       "0  18.456792  -69.951164  1970      7    2                             0   \n",
       "1  19.371887  -99.086624  1970      0    0                             0   \n",
       "2  15.478598  120.599741  1970      1    0                             0   \n",
       "3  37.997490   23.762728  1970      1    0                             0   \n",
       "4  33.580412  130.396361  1970      1    0                             0   \n",
       "\n",
       "   region_Central America & Caribbean  region_Central Asia  region_East Asia  \\\n",
       "0                                   1                    0                 0   \n",
       "1                                   0                    0                 0   \n",
       "2                                   0                    0                 0   \n",
       "3                                   0                    0                 0   \n",
       "4                                   0                    0                 1   \n",
       "\n",
       "   region_Eastern Europe  region_Middle East & North Africa  \\\n",
       "0                      0                                  0   \n",
       "1                      0                                  0   \n",
       "2                      0                                  0   \n",
       "3                      0                                  0   \n",
       "4                      0                                  0   \n",
       "\n",
       "   region_North America  region_South America  region_South Asia  \\\n",
       "0                     0                     0                  0   \n",
       "1                     1                     0                  0   \n",
       "2                     0                     0                  0   \n",
       "3                     0                     0                  0   \n",
       "4                     0                     0                  0   \n",
       "\n",
       "   region_Southeast Asia  region_Sub-Saharan Africa  region_Western Europe  \n",
       "0                      0                          0                      0  \n",
       "1                      0                          0                      0  \n",
       "2                      1                          0                      0  \n",
       "3                      0                          0                      1  \n",
       "4                      0                          0                      0  "
      ]
     },
     "execution_count": 11,
     "metadata": {},
     "output_type": "execute_result"
    }
   ],
   "source": [
    "X.head()"
   ]
  },
  {
   "cell_type": "code",
   "execution_count": 12,
   "metadata": {},
   "outputs": [
    {
     "name": "stderr",
     "output_type": "stream",
     "text": [
      "/usr/local/lib/python3.5/dist-packages/sklearn/ensemble/forest.py:245: FutureWarning: The default value of n_estimators will change from 10 in version 0.20 to 100 in 0.22.\n",
      "  \"10 in version 0.20 to 100 in 0.22.\", FutureWarning)\n"
     ]
    },
    {
     "data": {
      "text/plain": [
       "-0.01687988690449127"
      ]
     },
     "execution_count": 12,
     "metadata": {},
     "output_type": "execute_result"
    }
   ],
   "source": [
    "# RANDOM FOREST\n",
    "\n",
    "regressor_forest = RandomForestRegressor()\n",
    "\n",
    "regressor_forest.fit(X_train, y_train)\n",
    "regressor_forest.score(X_test, y_test)"
   ]
  },
  {
   "cell_type": "code",
   "execution_count": 13,
   "metadata": {},
   "outputs": [
    {
     "name": "stderr",
     "output_type": "stream",
     "text": [
      "/usr/local/lib/python3.5/dist-packages/sklearn/ensemble/forest.py:245: FutureWarning: The default value of n_estimators will change from 10 in version 0.20 to 100 in 0.22.\n",
      "  \"10 in version 0.20 to 100 in 0.22.\", FutureWarning)\n"
     ]
    },
    {
     "data": {
      "text/plain": [
       "0.8780942605422974"
      ]
     },
     "execution_count": 13,
     "metadata": {},
     "output_type": "execute_result"
    }
   ],
   "source": [
    "# RANDOM FOREST CLASSIFIER PARA VARIAS COLUMNAS\n",
    "\n",
    "classifier_forest = RandomForestClassifier()\n",
    "\n",
    "classifier_forest.fit(X_train, y_train)\n",
    "classifier_forest.score(X_test, y_test)"
   ]
  },
  {
   "cell_type": "markdown",
   "metadata": {},
   "source": [
    "# PROBAR MODELO"
   ]
  },
  {
   "cell_type": "code",
   "execution_count": 16,
   "metadata": {},
   "outputs": [
    {
     "data": {
      "text/html": [
       "<div>\n",
       "<style scoped>\n",
       "    .dataframe tbody tr th:only-of-type {\n",
       "        vertical-align: middle;\n",
       "    }\n",
       "\n",
       "    .dataframe tbody tr th {\n",
       "        vertical-align: top;\n",
       "    }\n",
       "\n",
       "    .dataframe thead th {\n",
       "        text-align: right;\n",
       "    }\n",
       "</style>\n",
       "<table border=\"1\" class=\"dataframe\">\n",
       "  <thead>\n",
       "    <tr style=\"text-align: right;\">\n",
       "      <th></th>\n",
       "      <th>country</th>\n",
       "      <th>region</th>\n",
       "      <th>city</th>\n",
       "      <th>latitude</th>\n",
       "      <th>longitude</th>\n",
       "    </tr>\n",
       "  </thead>\n",
       "  <tbody>\n",
       "    <tr>\n",
       "      <th>0</th>\n",
       "      <td>Dominican Republic</td>\n",
       "      <td>Central America &amp; Caribbean</td>\n",
       "      <td>Santo Domingo</td>\n",
       "      <td>18.456792</td>\n",
       "      <td>-69.951164</td>\n",
       "    </tr>\n",
       "    <tr>\n",
       "      <th>1</th>\n",
       "      <td>Mexico</td>\n",
       "      <td>North America</td>\n",
       "      <td>Mexico city</td>\n",
       "      <td>19.371887</td>\n",
       "      <td>-99.086624</td>\n",
       "    </tr>\n",
       "    <tr>\n",
       "      <th>2</th>\n",
       "      <td>Philippines</td>\n",
       "      <td>Southeast Asia</td>\n",
       "      <td>Unknown</td>\n",
       "      <td>15.478598</td>\n",
       "      <td>120.599741</td>\n",
       "    </tr>\n",
       "    <tr>\n",
       "      <th>3</th>\n",
       "      <td>Greece</td>\n",
       "      <td>Western Europe</td>\n",
       "      <td>Athens</td>\n",
       "      <td>37.997490</td>\n",
       "      <td>23.762728</td>\n",
       "    </tr>\n",
       "    <tr>\n",
       "      <th>4</th>\n",
       "      <td>Japan</td>\n",
       "      <td>East Asia</td>\n",
       "      <td>Fukouka</td>\n",
       "      <td>33.580412</td>\n",
       "      <td>130.396361</td>\n",
       "    </tr>\n",
       "  </tbody>\n",
       "</table>\n",
       "</div>"
      ],
      "text/plain": [
       "              country                       region           city   latitude  \\\n",
       "0  Dominican Republic  Central America & Caribbean  Santo Domingo  18.456792   \n",
       "1              Mexico                North America    Mexico city  19.371887   \n",
       "2         Philippines               Southeast Asia        Unknown  15.478598   \n",
       "3              Greece               Western Europe         Athens  37.997490   \n",
       "4               Japan                    East Asia        Fukouka  33.580412   \n",
       "\n",
       "    longitude  \n",
       "0  -69.951164  \n",
       "1  -99.086624  \n",
       "2  120.599741  \n",
       "3   23.762728  \n",
       "4  130.396361  "
      ]
     },
     "execution_count": 16,
     "metadata": {},
     "output_type": "execute_result"
    }
   ],
   "source": [
    "# MADRID (-3.7025600, 40.4165000)\n",
    "# AÑO 2020\n",
    "# CREAR CSV CON CIUDADES, LONGITUD Y LATITUD\n",
    "\n",
    "cities.head()"
   ]
  },
  {
   "cell_type": "code",
   "execution_count": 33,
   "metadata": {},
   "outputs": [
    {
     "name": "stdout",
     "output_type": "stream",
     "text": [
      "Input City: Santo Domingo\n"
     ]
    },
    {
     "data": {
      "text/plain": [
       "18.456792"
      ]
     },
     "execution_count": 33,
     "metadata": {},
     "output_type": "execute_result"
    }
   ],
   "source": []
  },
  {
   "cell_type": "code",
   "execution_count": 35,
   "metadata": {},
   "outputs": [
    {
     "data": {
      "text/html": [
       "<div>\n",
       "<style scoped>\n",
       "    .dataframe tbody tr th:only-of-type {\n",
       "        vertical-align: middle;\n",
       "    }\n",
       "\n",
       "    .dataframe tbody tr th {\n",
       "        vertical-align: top;\n",
       "    }\n",
       "\n",
       "    .dataframe thead th {\n",
       "        text-align: right;\n",
       "    }\n",
       "</style>\n",
       "<table border=\"1\" class=\"dataframe\">\n",
       "  <thead>\n",
       "    <tr style=\"text-align: right;\">\n",
       "      <th></th>\n",
       "      <th>latitude</th>\n",
       "      <th>longitude</th>\n",
       "      <th>year</th>\n",
       "      <th>month</th>\n",
       "      <th>day</th>\n",
       "      <th>region_Australasia &amp; Oceania</th>\n",
       "      <th>region_Central America &amp; Caribbean</th>\n",
       "      <th>region_Central Asia</th>\n",
       "      <th>region_East Asia</th>\n",
       "      <th>region_Eastern Europe</th>\n",
       "      <th>region_Middle East &amp; North Africa</th>\n",
       "      <th>region_North America</th>\n",
       "      <th>region_South America</th>\n",
       "      <th>region_South Asia</th>\n",
       "      <th>region_Southeast Asia</th>\n",
       "      <th>region_Sub-Saharan Africa</th>\n",
       "      <th>region_Western Europe</th>\n",
       "    </tr>\n",
       "  </thead>\n",
       "  <tbody>\n",
       "    <tr>\n",
       "      <th>0</th>\n",
       "      <td>18.456792</td>\n",
       "      <td>-69.951164</td>\n",
       "      <td>1970</td>\n",
       "      <td>7</td>\n",
       "      <td>2</td>\n",
       "      <td>0</td>\n",
       "      <td>1</td>\n",
       "      <td>0</td>\n",
       "      <td>0</td>\n",
       "      <td>0</td>\n",
       "      <td>0</td>\n",
       "      <td>0</td>\n",
       "      <td>0</td>\n",
       "      <td>0</td>\n",
       "      <td>0</td>\n",
       "      <td>0</td>\n",
       "      <td>0</td>\n",
       "    </tr>\n",
       "  </tbody>\n",
       "</table>\n",
       "</div>"
      ],
      "text/plain": [
       "    latitude  longitude  year  month  day  region_Australasia & Oceania  \\\n",
       "0  18.456792 -69.951164  1970      7    2                             0   \n",
       "\n",
       "   region_Central America & Caribbean  region_Central Asia  region_East Asia  \\\n",
       "0                                   1                    0                 0   \n",
       "\n",
       "   region_Eastern Europe  region_Middle East & North Africa  \\\n",
       "0                      0                                  0   \n",
       "\n",
       "   region_North America  region_South America  region_South Asia  \\\n",
       "0                     0                     0                  0   \n",
       "\n",
       "   region_Southeast Asia  region_Sub-Saharan Africa  region_Western Europe  \n",
       "0                      0                          0                      0  "
      ]
     },
     "execution_count": 35,
     "metadata": {},
     "output_type": "execute_result"
    }
   ],
   "source": [
    "# CREAR CSV PARA PREDECIR\n",
    "\n",
    "prediction = X.head(1)\n",
    "prediction"
   ]
  },
  {
   "cell_type": "code",
   "execution_count": 52,
   "metadata": {},
   "outputs": [
    {
     "name": "stdout",
     "output_type": "stream",
     "text": [
      "Input City: madrid\n",
      "Input Year: 2020\n",
      "Input Month: 2\n",
      "Input Day: 2\n",
      "CUIDADO!!\n"
     ]
    }
   ],
   "source": [
    "# INTRODUCIR DATOS DE LUGAR Y FECHA DE POSIBLE FUTURO ATAQUE\n",
    "\n",
    "import warnings\n",
    "warnings.filterwarnings('ignore')\n",
    "\n",
    "\n",
    "city = input('Input City: ')\n",
    "\n",
    "long = cities.loc[cities['city'] == city.capitalize()]['longitude'].iloc[1]\n",
    "lat = cities.loc[cities['city'] == city.capitalize()]['latitude'].iloc[1]\n",
    "\n",
    "year = input('Input Year: ')\n",
    "month = input('Input Month: ')\n",
    "day = input('Input Day: ')\n",
    "\n",
    "if month.lower() == 'enero':\n",
    "    month = 1\n",
    "elif month.lower() == 'febrero':\n",
    "    month = 2\n",
    "elif month.lower() == 'marzo':\n",
    "    month = 3\n",
    "elif month.lower() == 'abril':\n",
    "    month = 4\n",
    "elif month.lower() == 'mayo':\n",
    "    month = 5\n",
    "elif month.lower() == 'junio':\n",
    "    month = 6\n",
    "elif month.lower() == 'julio':\n",
    "    month = 7\n",
    "elif month.lower() == 'agosto':\n",
    "    month = 8\n",
    "elif month.lower() == 'septiembre':\n",
    "    month = 9\n",
    "elif month.lower() == 'octubre':\n",
    "    month = 10\n",
    "elif month.lower() == 'noviembre':\n",
    "    month = 11\n",
    "elif month.lower() == 'diciembre':\n",
    "    month = 12\n",
    "\n",
    "    \n",
    "    \n",
    "    \n",
    "prediction['longitude'] = long\n",
    "prediction['latitude'] = lat\n",
    "prediction['year'] = year\n",
    "prediction['month'] = month\n",
    "prediction['day'] = day\n",
    "\n",
    "\n",
    "# PREDECIMOS SI HUBIERA UN ATAQUE SI SERÁ EXITOSO O NO\n",
    "\n",
    "if classifier_forest.predict(prediction) == 1:\n",
    "    print('CUIDADO!!')\n",
    "else:\n",
    "    print('TRANKI')"
   ]
  },
  {
   "cell_type": "code",
   "execution_count": null,
   "metadata": {},
   "outputs": [],
   "source": []
  },
  {
   "cell_type": "code",
   "execution_count": null,
   "metadata": {},
   "outputs": [],
   "source": []
  }
 ],
 "metadata": {
  "kernelspec": {
   "display_name": "Python 3",
   "language": "python",
   "name": "python3"
  },
  "language_info": {
   "codemirror_mode": {
    "name": "ipython",
    "version": 3
   },
   "file_extension": ".py",
   "mimetype": "text/x-python",
   "name": "python",
   "nbconvert_exporter": "python",
   "pygments_lexer": "ipython3",
   "version": "3.5.3"
  }
 },
 "nbformat": 4,
 "nbformat_minor": 2
}
